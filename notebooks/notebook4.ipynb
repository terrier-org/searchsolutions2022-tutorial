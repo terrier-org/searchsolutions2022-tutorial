{
 "cells": [
  {
   "cell_type": "markdown",
   "metadata": {
    "id": "QrUxwIIBVmzN"
   },
   "source": [
    "# PyTerrier Search Solutions 2022 Tutorial Notebook - ANCE\n",
    "\n",
    "This notebook provides experiences to attendees in dense indexing and retrieval in [PyTerrier](https://github.com/terrier-org/pyterrier). All experiments are conducted using the [CORD19 corpus](https://www.ncbi.nlm.nih.gov/pmc/articles/PMC7251955/) and the [TREC Covid test collection](https://ir.nist.gov/covidSubmit/).\n",
    "\n",
    "This notebook aims to demonstrate use of the [ANCE dense retrieval](https://github.com/microsoft/ANCE) for end-to-end indexing and retrieval in PyTerrier, as provided by the [*PyTerrier ANCE*](https://github.com/terrierteam/pyterrier_ance) plugin.\n",
    "\n",
    "In this notebook, you will experience:\n",
    " - indexing and retrieval using [*PyTerrier ANCE*](https://github.com/terrierteam/pyterrier_ance).\n",
    " - doing a failure analysis comparing ANCE with BM25 results.\n",
    "\n"
   ]
  },
  {
   "cell_type": "markdown",
   "metadata": {
    "id": "FzAmEAgzGFEE"
   },
   "source": [
    "# Setup\n",
    "\n",
    "In the following, we will set up the libraries required to execute the notebook."
   ]
  },
  {
   "cell_type": "markdown",
   "metadata": {
    "id": "ZABQMWK54-S4"
   },
   "source": [
    "## Python packages installation\n",
    "\n",
    "The following packages are installed to avoid warnings/errors during [PyTerrier](https://github.com/terrier-org/pyterrier) installation. Note that the current release of the [PyTerrier](https://github.com/terrier-org/pyterrier) [ANCE](https://github.com/microsoft/ANCE) plugin works only with the following Python packages:\n",
    "\n",
    "* `faiss-cpu` or `faiss-gpu`, version 1.6.3\n",
    "\n",
    "> You can safely ignore the message about runtime restart."
   ]
  },
  {
   "cell_type": "code",
   "execution_count": null,
   "metadata": {
    "colab": {
     "base_uri": "https://localhost:8080/"
    },
    "id": "poO9tDxI4Nr_",
    "outputId": "c3f28071-36d7-4686-bfe3-48047454b221"
   },
   "outputs": [],
   "source": [
    "!apt install --quiet --upgrade libomp-dev\n",
    "%pip install --quiet --upgrade faiss-gpu==1.7.2"
   ]
  },
  {
   "cell_type": "markdown",
   "metadata": {
    "id": "QPc6ygBxhL4H"
   },
   "source": [
    "## Pyterrier installation\n",
    "\n",
    "The following cell installs the latest release of the [PyTerrier](https://github.com/terrier-org/pyterrier) package."
   ]
  },
  {
   "cell_type": "code",
   "execution_count": null,
   "metadata": {
    "colab": {
     "base_uri": "https://localhost:8080/"
    },
    "id": "rGqaCMa2ggp-",
    "outputId": "d9d1e465-56aa-4a42-ea5a-5a037134d5f9"
   },
   "outputs": [],
   "source": [
    "%pip install --quiet python-terrier"
   ]
  },
  {
   "cell_type": "markdown",
   "metadata": {
    "id": "2Yl1plJjpws7"
   },
   "source": [
    "## Pyterrier plugins installation\n",
    "\n",
    "We install the official version of the [*PyTerrier ANCE*](https://github.com/terrierteam/pyterrier_ance) plugin. You can safely ignore the package versioning errors."
   ]
  },
  {
   "cell_type": "code",
   "execution_count": null,
   "metadata": {
    "colab": {
     "base_uri": "https://localhost:8080/"
    },
    "id": "lFQSFHpA3tss",
    "outputId": "e388c155-b036-4cd4-a7e8-fbf10a1c8300"
   },
   "outputs": [],
   "source": [
    "%pip install --quiet git+https://github.com/terrierteam/pyterrier_ance.git"
   ]
  },
  {
   "cell_type": "markdown",
   "metadata": {
    "id": "1eBlpENBlTXA"
   },
   "source": [
    "# Preliminary steps"
   ]
  },
  {
   "cell_type": "code",
   "execution_count": null,
   "metadata": {
    "colab": {
     "base_uri": "https://localhost:8080/"
    },
    "id": "VbHA4J017DB3",
    "outputId": "ebb67f52-9e5e-4af7-a388-d14d94c01bba"
   },
   "outputs": [],
   "source": [
    "import pyterrier as pt"
   ]
  },
  {
   "cell_type": "markdown",
   "metadata": {
    "id": "jW-yxSj0loy-"
   },
   "source": [
    "## [TREC-COVID19](https://ir.nist.gov/covidSubmit/) dataset download\n",
    "\n",
    "The following cell downloads the [TREC-COVID19](https://ir.nist.gov/covidSubmit/) dataset that we will use in the remainder of this notebook."
   ]
  },
  {
   "cell_type": "code",
   "execution_count": null,
   "metadata": {
    "id": "i1MtodQBlofw"
   },
   "outputs": [],
   "source": [
    "dataset = pt.datasets.get_dataset('irds:cord19/trec-covid')\n",
    "topics = dataset.get_topics(variant='title')\n",
    "qrels = dataset.get_qrels()"
   ]
  },
  {
   "cell_type": "markdown",
   "metadata": {
    "id": "fu2XhNRQEEs2"
   },
   "source": [
    "## [Terrier](http://terrier.org) inverted index download\n",
    "\n",
    "To save a few minutes, we use a pre-built [Terrier](http://terrier.org) inverted index for the [TREC-COVID19](https://ir.nist.gov/covidSubmit/) collection.\n",
    "Download time took a few seconds for us.\n",
    "\n",
    "The construction of the inverted index will take few minutes, and the code to use is the following:\n",
    "\n",
    "```python\n",
    "import os\n",
    "\n",
    "cord19 = pt.datasets.get_dataset('irds:cord19/trec-covid')\n",
    "pt_index_path = './terrier_cord19'\n",
    "\n",
    "if not os.path.exists(pt_index_path + \"/data.properties\"):\n",
    "    # create the index, using the IterDictIndexer indexer \n",
    "    indexer = pt.index.IterDictIndexer(pt_index_path)\n",
    "\n",
    "    # we give the dataset get_corpus_iter() directly to the indexer\n",
    "    # while specifying the fields to index and the metadata to record\n",
    "    index_ref = indexer.index(cord19.get_corpus_iter(), \n",
    "                              fields=('abstract',), \n",
    "                              meta=('docno',))\n",
    "\n",
    "else:\n",
    "    # if you already have the index, use it.\n",
    "    index_ref = pt.IndexRef.of(pt_index_path + \"/data.properties\")\n",
    "\n",
    "index = pt.IndexFactory.of(index_ref)\n",
    "```"
   ]
  },
  {
   "cell_type": "code",
   "execution_count": null,
   "metadata": {
    "id": "yklzIrBYmJef"
   },
   "outputs": [],
   "source": [
    "index = pt.datasets.get_dataset('trec-covid').get_index('terrier_stemmed')"
   ]
  },
  {
   "cell_type": "markdown",
   "metadata": {
    "id": "5vpOdvbyn9Yt"
   },
   "source": [
    "## [ANCE](https://github.com/microsoft/ANCE) dense index download\n",
    "\n",
    "We are going to download a pre-built [ANCE](https://github.com/microsoft/ANCE) [FAISS](https://github.com/facebookresearch/faiss) index for the [TREC-COVID19](https://ir.nist.gov/covidSubmit/) collection. Download time took <1 minute for us.\n",
    "\n",
    "The construction of this index takes some time. If you wanted to create the index yourself, the code to use is as follows:\n",
    "\n",
    "```python\n",
    "!rm -rf /content/anceindex\n",
    "\n",
    "import pyterrier_ance\n",
    "\n",
    "ance_indexer = pt.text.sliding() >> pyterrier_ance.ANCEIndexer(\n",
    "    checkpoint_path=\"./ance_model_checkpoint\",\n",
    "    index_path=\"/content/anceindex\",\n",
    "    num_docs=192509,\n",
    "    text_attr='abstract' # COVID\n",
    ")\n",
    "\n",
    "ance_indexer.index(dataset.get_corpus_iter())\n",
    "```"
   ]
  },
  {
   "cell_type": "code",
   "execution_count": null,
   "metadata": {
    "id": "lvx6tFeQIRVT"
   },
   "outputs": [],
   "source": [
    "ance_index = pt.datasets.get_dataset('trec-covid').get_index('ance_msmarco_psg')"
   ]
  },
  {
   "cell_type": "markdown",
   "metadata": {
    "id": "F0os3PrCWAOh"
   },
   "source": [
    "So we have a few files that have been generated. In particular, an ANCE index is broken into shards - CORD19 is small enough to only need a single chunk, so we have only `0.*` and no `1.*` etc.\n",
    "\n",
    "ANCE index contains 3 files:\n",
    " - `shards.pkl` - how many documents in each shard;\n",
    " - $x$ `.docids.pkl` - docid to docno mapping for documents in each shard;\n",
    "\n",
    " - $x$ `.faiss` - the FAISS index for the documents in each shard.\n"
   ]
  },
  {
   "cell_type": "markdown",
   "metadata": {
    "id": "CNSVITVYvf37"
   },
   "source": [
    "# Retrieval experiments\n",
    "\n",
    "Now that indexing/downloading has completed, we can load in the index and the learned model (which we will need for encoding queries). Index loading can take some time, as the [FAISS](https://github.com/facebookresearch/faiss) index needs to be loaded in main memory, as well as the docno lookup file.\n",
    "\n",
    "Lets prepare an experiment. Firstly, lets create in a BM25 baseline transformer, and the [ANCE](https://github.com/microsoft/ANCE) retrieve transformer. Since most documents exceed the maximum length supported by ANCE, a sliding window of 150 tokens was used (stride 75, prepending title) to construct passages. As such, passage scores need to be aggregated, e.g., using `pt.text.max_passage()`."
   ]
  },
  {
   "cell_type": "code",
   "execution_count": null,
   "metadata": {
    "colab": {
     "base_uri": "https://localhost:8080/",
     "height": 1000,
     "referenced_widgets": [
      "93a5f13898614fd3af667374f407747c",
      "e640b6e2d43749a7b371a9331dcdab0f",
      "01bb02f3709a449d82246dabf91d6a9e",
      "484cb26a8f354953abe465e5f9eba5f0",
      "5c69f74bf57944929fc1d7853eabab7b",
      "2d122cb9f47b427abe404295ef99f04e",
      "442bbd6de350428cac983086bfd875cd",
      "de82bcfd97b74de3849f46595bd5fdd0",
      "99f539b0b98f415184cff5716330ac41",
      "328c101368d943e0876a9e53326ddcdd",
      "945e3e7c85fe44abbbc87daa69835f94"
     ]
    },
    "id": "lp5-3rel99xN",
    "outputId": "4cda6012-a3f6-4d29-d02e-63c1550e82cc"
   },
   "outputs": [],
   "source": [
    "bm25_retriever = pt.BatchRetrieve(index, wmodel=\"BM25\")\n",
    "\n",
    "from pyterrier_ance import ANCERetrieval\n",
    "\n",
    "ance_retriever = ANCERetrieval.from_dataset('trec-covid', 'ance_msmarco_psg') >> pt.text.max_passage()"
   ]
  },
  {
   "cell_type": "markdown",
   "metadata": {
    "id": "Iuua3AVqAX83"
   },
   "source": [
    "Now we are ready to run the experiments. We are going to retrieve the top 10 ranked documents for the official topics, and compute several effectiveness metrics. "
   ]
  },
  {
   "cell_type": "code",
   "execution_count": null,
   "metadata": {
    "colab": {
     "base_uri": "https://localhost:8080/",
     "height": 262,
     "referenced_widgets": [
      "cdcf230ab5064f74b31d83c828e676f5",
      "1ed821c97fd74d5588397ce7bb962700",
      "e06459ac963d457cb24c86cba8c23484",
      "9ba8df578a73498ba3d909f82b4ed8d7",
      "b59ac7a0f4a54450aed65b01ba24e665",
      "7ad250f088d0462e8b58a9897a18e83c",
      "d926ff42ea644076bfa79b1ab93f6bd9",
      "efd98330ffb545b0916cf27c15cfd1eb",
      "67ad0daea70445138fc8a88243252f16",
      "ae33810bf6d14cc48131dbc86473646b",
      "8694d6b375bb41b1a2fce23a2e2bdb4e"
     ]
    },
    "id": "9RzCnTeWatkF",
    "outputId": "0a360600-2b68-4ac6-e5b7-bc11127fe298"
   },
   "outputs": [],
   "source": [
    "pt.Experiment(\n",
    "    [bm25_retriever % 10, ance_retriever % 10], \n",
    "    topics,\n",
    "    qrels,\n",
    "    eval_metrics=[\"map\", \"recip_rank\", \"P_10\", \"ndcg_cut_10\", \"mrt\"],\n",
    "    names=['BM25', 'ANCE'],\n",
    ")"
   ]
  },
  {
   "cell_type": "markdown",
   "metadata": {},
   "source": [
    "The underperforming results computed our ANCE retriever are due to the lack of fine-tuning of the underlying BERT-based model with COVID19 and medical-related documents, as done, for example, in [Sledge](https://arxiv.org/pdf/2005.02365.pdf)."
   ]
  },
  {
   "cell_type": "markdown",
   "metadata": {
    "id": "FArBa-2wQIUj"
   },
   "source": [
    "## ANCE failure analysis\n",
    "\n",
    "Lets give a look at the results for BM25 and ANCE for query with qid \"`1`\". To achieve this, lets make a function that displays the results, including the DOI URL."
   ]
  },
  {
   "cell_type": "code",
   "execution_count": null,
   "metadata": {
    "id": "cDPkSTyba8wr"
   },
   "outputs": [],
   "source": [
    "def show_res_with_text_labels(system, qid):\n",
    "    def make_doi_url(df):\n",
    "      df[\"doi\"] = df[\"doi\"].apply(lambda doi: \"https://doi.org/\" + doi)\n",
    "      return df\n",
    "    pipe = (system % 10) >> pt.text.get_text(dataset, [\"title\", \"doi\"]) >> pt.apply.generic(make_doi_url)\n",
    "    res = pipe.transform(topics[topics.qid == qid])\n",
    "    res = res.merge(qrels, how='left')\n",
    "    def make_clickable(val):\n",
    "        # target _blank to open new window\n",
    "        return '<a target=\"_blank\" href=\"{}\">{}</a>'.format(val, val)\n",
    "    res = res.sort_values(\"rank\", ascending=True)\n",
    "    res.style.format({'doi': make_clickable})\n",
    "    return res\n",
    "  \n",
    "import pandas as pd\n",
    "pd.set_option(\"max_colwidth\", 102)"
   ]
  },
  {
   "cell_type": "code",
   "execution_count": null,
   "metadata": {
    "colab": {
     "base_uri": "https://localhost:8080/",
     "height": 478
    },
    "id": "5cZbyB5oMf3Y",
    "outputId": "af96b0e7-35d9-4703-d343-2f158b9e28b8"
   },
   "outputs": [],
   "source": [
    "show_res_with_text_labels(bm25_retriever, \"1\")"
   ]
  },
  {
   "cell_type": "markdown",
   "metadata": {
    "id": "4fq5kVT_QUQJ"
   },
   "source": [
    "Judging by the titles of the retrieved documents, BM25 did quite well (NB: For documents with DOIs, you can look up the actual document).\n",
    "\n",
    "Overall, BM25 would have got P@10 = 0.8 for this query. \n",
    "\n",
    "Lets look at ANCE now."
   ]
  },
  {
   "cell_type": "code",
   "execution_count": null,
   "metadata": {
    "colab": {
     "base_uri": "https://localhost:8080/",
     "height": 510,
     "referenced_widgets": [
      "2eec4c6246eb41eba023ed0c9d3ebc25",
      "da114d7b10da47b19533c91c4f0bed7e",
      "f2a55fbf67ff4f60a241f071bc4b2708",
      "5510c59188304a1795adfaf1239930d8",
      "2936b5b094ef4366b14533418f0de969",
      "63b91333418944988febceedf502d1fa",
      "c43439e2eb7842a69347ccd6eaad52cc",
      "6c43316278504729b8a41a9ac2cb79ec",
      "167bb192774448b3a2b79720b0c526f6",
      "b2cd1fd9fd7f4ffba67c34259b04876a",
      "c28ab1bddc7d4216a0a85c2eba66cbaf"
     ]
    },
    "id": "jUvvdbidN9Gz",
    "outputId": "0cee4f53-caca-4736-db51-fb028dd77269"
   },
   "outputs": [],
   "source": [
    "show_res_with_text_labels(ance_retriever, \"1\")"
   ]
  },
  {
   "cell_type": "markdown",
   "metadata": {
    "id": "MdRjcgNTQhrN"
   },
   "source": [
    "Here, we see that ANCE has got ranked three documents that had some relevance to the query (titled: \"The first two cases of 2019‐nCoV in Italy: Where they come from\"), however, only the third one (the one with a DOI) was actually judged relevant. Several other of the retrieved documents appear to be non-relevant, e.g. \"General Anesthesia Recommendations for Electroconvulsive Therapy\". "
   ]
  },
  {
   "cell_type": "markdown",
   "metadata": {
    "id": "QmQ_utFaRTgj"
   },
   "source": [
    "## Practice task\n",
    "\n",
    "Try a few other queries in `show_res_with_text_labels()`. Qids are numbered from \"1\" to \"50\". "
   ]
  },
  {
   "cell_type": "code",
   "execution_count": null,
   "metadata": {
    "id": "ZkLC23EcR4Pd"
   },
   "outputs": [],
   "source": [
    "# Write your code here"
   ]
  }
 ],
 "metadata": {
  "accelerator": "GPU",
  "colab": {
   "collapsed_sections": [],
   "name": "notebook4.2.ipynb",
   "provenance": []
  },
  "kernelspec": {
   "display_name": "Python 3",
   "language": "python",
   "name": "python3"
  },
  "language_info": {
   "codemirror_mode": {
    "name": "ipython",
    "version": 3
   },
   "file_extension": ".py",
   "mimetype": "text/x-python",
   "name": "python",
   "nbconvert_exporter": "python",
   "pygments_lexer": "ipython3",
   "version": "3.8.8"
  },
  "widgets": {
   "application/vnd.jupyter.widget-state+json": {
    "01bb02f3709a449d82246dabf91d6a9e": {
     "model_module": "@jupyter-widgets/controls",
     "model_module_version": "1.5.0",
     "model_name": "HTMLModel",
     "state": {
      "_dom_classes": [],
      "_model_module": "@jupyter-widgets/controls",
      "_model_module_version": "1.5.0",
      "_model_name": "HTMLModel",
      "_view_count": null,
      "_view_module": "@jupyter-widgets/controls",
      "_view_module_version": "1.5.0",
      "_view_name": "HTMLView",
      "description": "",
      "description_tooltip": null,
      "layout": "IPY_MODEL_442bbd6de350428cac983086bfd875cd",
      "placeholder": "​",
      "style": "IPY_MODEL_2d122cb9f47b427abe404295ef99f04e",
      "value": "Loading shards: 100%"
     }
    },
    "167bb192774448b3a2b79720b0c526f6": {
     "model_module": "@jupyter-widgets/base",
     "model_module_version": "1.2.0",
     "model_name": "LayoutModel",
     "state": {
      "_model_module": "@jupyter-widgets/base",
      "_model_module_version": "1.2.0",
      "_model_name": "LayoutModel",
      "_view_count": null,
      "_view_module": "@jupyter-widgets/base",
      "_view_module_version": "1.2.0",
      "_view_name": "LayoutView",
      "align_content": null,
      "align_items": null,
      "align_self": null,
      "border": null,
      "bottom": null,
      "display": null,
      "flex": null,
      "flex_flow": null,
      "grid_area": null,
      "grid_auto_columns": null,
      "grid_auto_flow": null,
      "grid_auto_rows": null,
      "grid_column": null,
      "grid_gap": null,
      "grid_row": null,
      "grid_template_areas": null,
      "grid_template_columns": null,
      "grid_template_rows": null,
      "height": null,
      "justify_content": null,
      "justify_items": null,
      "left": null,
      "margin": null,
      "max_height": null,
      "max_width": null,
      "min_height": null,
      "min_width": null,
      "object_fit": null,
      "object_position": null,
      "order": null,
      "overflow": null,
      "overflow_x": null,
      "overflow_y": null,
      "padding": null,
      "right": null,
      "top": null,
      "visibility": null,
      "width": null
     }
    },
    "1ed821c97fd74d5588397ce7bb962700": {
     "model_module": "@jupyter-widgets/base",
     "model_module_version": "1.2.0",
     "model_name": "LayoutModel",
     "state": {
      "_model_module": "@jupyter-widgets/base",
      "_model_module_version": "1.2.0",
      "_model_name": "LayoutModel",
      "_view_count": null,
      "_view_module": "@jupyter-widgets/base",
      "_view_module_version": "1.2.0",
      "_view_name": "LayoutView",
      "align_content": null,
      "align_items": null,
      "align_self": null,
      "border": null,
      "bottom": null,
      "display": null,
      "flex": null,
      "flex_flow": null,
      "grid_area": null,
      "grid_auto_columns": null,
      "grid_auto_flow": null,
      "grid_auto_rows": null,
      "grid_column": null,
      "grid_gap": null,
      "grid_row": null,
      "grid_template_areas": null,
      "grid_template_columns": null,
      "grid_template_rows": null,
      "height": null,
      "justify_content": null,
      "justify_items": null,
      "left": null,
      "margin": null,
      "max_height": null,
      "max_width": null,
      "min_height": null,
      "min_width": null,
      "object_fit": null,
      "object_position": null,
      "order": null,
      "overflow": null,
      "overflow_x": null,
      "overflow_y": null,
      "padding": null,
      "right": null,
      "top": null,
      "visibility": null,
      "width": null
     }
    },
    "2936b5b094ef4366b14533418f0de969": {
     "model_module": "@jupyter-widgets/controls",
     "model_module_version": "1.5.0",
     "model_name": "HTMLModel",
     "state": {
      "_dom_classes": [],
      "_model_module": "@jupyter-widgets/controls",
      "_model_module_version": "1.5.0",
      "_model_name": "HTMLModel",
      "_view_count": null,
      "_view_module": "@jupyter-widgets/controls",
      "_view_module_version": "1.5.0",
      "_view_name": "HTMLView",
      "description": "",
      "description_tooltip": null,
      "layout": "IPY_MODEL_c28ab1bddc7d4216a0a85c2eba66cbaf",
      "placeholder": "​",
      "style": "IPY_MODEL_b2cd1fd9fd7f4ffba67c34259b04876a",
      "value": " 1/1 [00:00&lt;00:00,  2.30shard/s]"
     }
    },
    "2d122cb9f47b427abe404295ef99f04e": {
     "model_module": "@jupyter-widgets/controls",
     "model_module_version": "1.5.0",
     "model_name": "DescriptionStyleModel",
     "state": {
      "_model_module": "@jupyter-widgets/controls",
      "_model_module_version": "1.5.0",
      "_model_name": "DescriptionStyleModel",
      "_view_count": null,
      "_view_module": "@jupyter-widgets/base",
      "_view_module_version": "1.2.0",
      "_view_name": "StyleView",
      "description_width": ""
     }
    },
    "2eec4c6246eb41eba023ed0c9d3ebc25": {
     "model_module": "@jupyter-widgets/controls",
     "model_module_version": "1.5.0",
     "model_name": "HBoxModel",
     "state": {
      "_dom_classes": [],
      "_model_module": "@jupyter-widgets/controls",
      "_model_module_version": "1.5.0",
      "_model_name": "HBoxModel",
      "_view_count": null,
      "_view_module": "@jupyter-widgets/controls",
      "_view_module_version": "1.5.0",
      "_view_name": "HBoxView",
      "box_style": "",
      "children": [
       "IPY_MODEL_f2a55fbf67ff4f60a241f071bc4b2708",
       "IPY_MODEL_5510c59188304a1795adfaf1239930d8",
       "IPY_MODEL_2936b5b094ef4366b14533418f0de969"
      ],
      "layout": "IPY_MODEL_da114d7b10da47b19533c91c4f0bed7e"
     }
    },
    "328c101368d943e0876a9e53326ddcdd": {
     "model_module": "@jupyter-widgets/controls",
     "model_module_version": "1.5.0",
     "model_name": "DescriptionStyleModel",
     "state": {
      "_model_module": "@jupyter-widgets/controls",
      "_model_module_version": "1.5.0",
      "_model_name": "DescriptionStyleModel",
      "_view_count": null,
      "_view_module": "@jupyter-widgets/base",
      "_view_module_version": "1.2.0",
      "_view_name": "StyleView",
      "description_width": ""
     }
    },
    "442bbd6de350428cac983086bfd875cd": {
     "model_module": "@jupyter-widgets/base",
     "model_module_version": "1.2.0",
     "model_name": "LayoutModel",
     "state": {
      "_model_module": "@jupyter-widgets/base",
      "_model_module_version": "1.2.0",
      "_model_name": "LayoutModel",
      "_view_count": null,
      "_view_module": "@jupyter-widgets/base",
      "_view_module_version": "1.2.0",
      "_view_name": "LayoutView",
      "align_content": null,
      "align_items": null,
      "align_self": null,
      "border": null,
      "bottom": null,
      "display": null,
      "flex": null,
      "flex_flow": null,
      "grid_area": null,
      "grid_auto_columns": null,
      "grid_auto_flow": null,
      "grid_auto_rows": null,
      "grid_column": null,
      "grid_gap": null,
      "grid_row": null,
      "grid_template_areas": null,
      "grid_template_columns": null,
      "grid_template_rows": null,
      "height": null,
      "justify_content": null,
      "justify_items": null,
      "left": null,
      "margin": null,
      "max_height": null,
      "max_width": null,
      "min_height": null,
      "min_width": null,
      "object_fit": null,
      "object_position": null,
      "order": null,
      "overflow": null,
      "overflow_x": null,
      "overflow_y": null,
      "padding": null,
      "right": null,
      "top": null,
      "visibility": null,
      "width": null
     }
    },
    "484cb26a8f354953abe465e5f9eba5f0": {
     "model_module": "@jupyter-widgets/controls",
     "model_module_version": "1.5.0",
     "model_name": "FloatProgressModel",
     "state": {
      "_dom_classes": [],
      "_model_module": "@jupyter-widgets/controls",
      "_model_module_version": "1.5.0",
      "_model_name": "FloatProgressModel",
      "_view_count": null,
      "_view_module": "@jupyter-widgets/controls",
      "_view_module_version": "1.5.0",
      "_view_name": "ProgressView",
      "bar_style": "success",
      "description": "",
      "description_tooltip": null,
      "layout": "IPY_MODEL_99f539b0b98f415184cff5716330ac41",
      "max": 1,
      "min": 0,
      "orientation": "horizontal",
      "style": "IPY_MODEL_de82bcfd97b74de3849f46595bd5fdd0",
      "value": 1
     }
    },
    "5510c59188304a1795adfaf1239930d8": {
     "model_module": "@jupyter-widgets/controls",
     "model_module_version": "1.5.0",
     "model_name": "FloatProgressModel",
     "state": {
      "_dom_classes": [],
      "_model_module": "@jupyter-widgets/controls",
      "_model_module_version": "1.5.0",
      "_model_name": "FloatProgressModel",
      "_view_count": null,
      "_view_module": "@jupyter-widgets/controls",
      "_view_module_version": "1.5.0",
      "_view_name": "ProgressView",
      "bar_style": "success",
      "description": "",
      "description_tooltip": null,
      "layout": "IPY_MODEL_167bb192774448b3a2b79720b0c526f6",
      "max": 1,
      "min": 0,
      "orientation": "horizontal",
      "style": "IPY_MODEL_6c43316278504729b8a41a9ac2cb79ec",
      "value": 1
     }
    },
    "5c69f74bf57944929fc1d7853eabab7b": {
     "model_module": "@jupyter-widgets/controls",
     "model_module_version": "1.5.0",
     "model_name": "HTMLModel",
     "state": {
      "_dom_classes": [],
      "_model_module": "@jupyter-widgets/controls",
      "_model_module_version": "1.5.0",
      "_model_name": "HTMLModel",
      "_view_count": null,
      "_view_module": "@jupyter-widgets/controls",
      "_view_module_version": "1.5.0",
      "_view_name": "HTMLView",
      "description": "",
      "description_tooltip": null,
      "layout": "IPY_MODEL_945e3e7c85fe44abbbc87daa69835f94",
      "placeholder": "​",
      "style": "IPY_MODEL_328c101368d943e0876a9e53326ddcdd",
      "value": " 1/1 [00:00&lt;00:00,  1.34shard/s]"
     }
    },
    "63b91333418944988febceedf502d1fa": {
     "model_module": "@jupyter-widgets/controls",
     "model_module_version": "1.5.0",
     "model_name": "DescriptionStyleModel",
     "state": {
      "_model_module": "@jupyter-widgets/controls",
      "_model_module_version": "1.5.0",
      "_model_name": "DescriptionStyleModel",
      "_view_count": null,
      "_view_module": "@jupyter-widgets/base",
      "_view_module_version": "1.2.0",
      "_view_name": "StyleView",
      "description_width": ""
     }
    },
    "67ad0daea70445138fc8a88243252f16": {
     "model_module": "@jupyter-widgets/base",
     "model_module_version": "1.2.0",
     "model_name": "LayoutModel",
     "state": {
      "_model_module": "@jupyter-widgets/base",
      "_model_module_version": "1.2.0",
      "_model_name": "LayoutModel",
      "_view_count": null,
      "_view_module": "@jupyter-widgets/base",
      "_view_module_version": "1.2.0",
      "_view_name": "LayoutView",
      "align_content": null,
      "align_items": null,
      "align_self": null,
      "border": null,
      "bottom": null,
      "display": null,
      "flex": null,
      "flex_flow": null,
      "grid_area": null,
      "grid_auto_columns": null,
      "grid_auto_flow": null,
      "grid_auto_rows": null,
      "grid_column": null,
      "grid_gap": null,
      "grid_row": null,
      "grid_template_areas": null,
      "grid_template_columns": null,
      "grid_template_rows": null,
      "height": null,
      "justify_content": null,
      "justify_items": null,
      "left": null,
      "margin": null,
      "max_height": null,
      "max_width": null,
      "min_height": null,
      "min_width": null,
      "object_fit": null,
      "object_position": null,
      "order": null,
      "overflow": null,
      "overflow_x": null,
      "overflow_y": null,
      "padding": null,
      "right": null,
      "top": null,
      "visibility": null,
      "width": null
     }
    },
    "6c43316278504729b8a41a9ac2cb79ec": {
     "model_module": "@jupyter-widgets/controls",
     "model_module_version": "1.5.0",
     "model_name": "ProgressStyleModel",
     "state": {
      "_model_module": "@jupyter-widgets/controls",
      "_model_module_version": "1.5.0",
      "_model_name": "ProgressStyleModel",
      "_view_count": null,
      "_view_module": "@jupyter-widgets/base",
      "_view_module_version": "1.2.0",
      "_view_name": "StyleView",
      "bar_color": null,
      "description_width": ""
     }
    },
    "7ad250f088d0462e8b58a9897a18e83c": {
     "model_module": "@jupyter-widgets/controls",
     "model_module_version": "1.5.0",
     "model_name": "DescriptionStyleModel",
     "state": {
      "_model_module": "@jupyter-widgets/controls",
      "_model_module_version": "1.5.0",
      "_model_name": "DescriptionStyleModel",
      "_view_count": null,
      "_view_module": "@jupyter-widgets/base",
      "_view_module_version": "1.2.0",
      "_view_name": "StyleView",
      "description_width": ""
     }
    },
    "8694d6b375bb41b1a2fce23a2e2bdb4e": {
     "model_module": "@jupyter-widgets/base",
     "model_module_version": "1.2.0",
     "model_name": "LayoutModel",
     "state": {
      "_model_module": "@jupyter-widgets/base",
      "_model_module_version": "1.2.0",
      "_model_name": "LayoutModel",
      "_view_count": null,
      "_view_module": "@jupyter-widgets/base",
      "_view_module_version": "1.2.0",
      "_view_name": "LayoutView",
      "align_content": null,
      "align_items": null,
      "align_self": null,
      "border": null,
      "bottom": null,
      "display": null,
      "flex": null,
      "flex_flow": null,
      "grid_area": null,
      "grid_auto_columns": null,
      "grid_auto_flow": null,
      "grid_auto_rows": null,
      "grid_column": null,
      "grid_gap": null,
      "grid_row": null,
      "grid_template_areas": null,
      "grid_template_columns": null,
      "grid_template_rows": null,
      "height": null,
      "justify_content": null,
      "justify_items": null,
      "left": null,
      "margin": null,
      "max_height": null,
      "max_width": null,
      "min_height": null,
      "min_width": null,
      "object_fit": null,
      "object_position": null,
      "order": null,
      "overflow": null,
      "overflow_x": null,
      "overflow_y": null,
      "padding": null,
      "right": null,
      "top": null,
      "visibility": null,
      "width": null
     }
    },
    "93a5f13898614fd3af667374f407747c": {
     "model_module": "@jupyter-widgets/controls",
     "model_module_version": "1.5.0",
     "model_name": "HBoxModel",
     "state": {
      "_dom_classes": [],
      "_model_module": "@jupyter-widgets/controls",
      "_model_module_version": "1.5.0",
      "_model_name": "HBoxModel",
      "_view_count": null,
      "_view_module": "@jupyter-widgets/controls",
      "_view_module_version": "1.5.0",
      "_view_name": "HBoxView",
      "box_style": "",
      "children": [
       "IPY_MODEL_01bb02f3709a449d82246dabf91d6a9e",
       "IPY_MODEL_484cb26a8f354953abe465e5f9eba5f0",
       "IPY_MODEL_5c69f74bf57944929fc1d7853eabab7b"
      ],
      "layout": "IPY_MODEL_e640b6e2d43749a7b371a9331dcdab0f"
     }
    },
    "945e3e7c85fe44abbbc87daa69835f94": {
     "model_module": "@jupyter-widgets/base",
     "model_module_version": "1.2.0",
     "model_name": "LayoutModel",
     "state": {
      "_model_module": "@jupyter-widgets/base",
      "_model_module_version": "1.2.0",
      "_model_name": "LayoutModel",
      "_view_count": null,
      "_view_module": "@jupyter-widgets/base",
      "_view_module_version": "1.2.0",
      "_view_name": "LayoutView",
      "align_content": null,
      "align_items": null,
      "align_self": null,
      "border": null,
      "bottom": null,
      "display": null,
      "flex": null,
      "flex_flow": null,
      "grid_area": null,
      "grid_auto_columns": null,
      "grid_auto_flow": null,
      "grid_auto_rows": null,
      "grid_column": null,
      "grid_gap": null,
      "grid_row": null,
      "grid_template_areas": null,
      "grid_template_columns": null,
      "grid_template_rows": null,
      "height": null,
      "justify_content": null,
      "justify_items": null,
      "left": null,
      "margin": null,
      "max_height": null,
      "max_width": null,
      "min_height": null,
      "min_width": null,
      "object_fit": null,
      "object_position": null,
      "order": null,
      "overflow": null,
      "overflow_x": null,
      "overflow_y": null,
      "padding": null,
      "right": null,
      "top": null,
      "visibility": null,
      "width": null
     }
    },
    "99f539b0b98f415184cff5716330ac41": {
     "model_module": "@jupyter-widgets/base",
     "model_module_version": "1.2.0",
     "model_name": "LayoutModel",
     "state": {
      "_model_module": "@jupyter-widgets/base",
      "_model_module_version": "1.2.0",
      "_model_name": "LayoutModel",
      "_view_count": null,
      "_view_module": "@jupyter-widgets/base",
      "_view_module_version": "1.2.0",
      "_view_name": "LayoutView",
      "align_content": null,
      "align_items": null,
      "align_self": null,
      "border": null,
      "bottom": null,
      "display": null,
      "flex": null,
      "flex_flow": null,
      "grid_area": null,
      "grid_auto_columns": null,
      "grid_auto_flow": null,
      "grid_auto_rows": null,
      "grid_column": null,
      "grid_gap": null,
      "grid_row": null,
      "grid_template_areas": null,
      "grid_template_columns": null,
      "grid_template_rows": null,
      "height": null,
      "justify_content": null,
      "justify_items": null,
      "left": null,
      "margin": null,
      "max_height": null,
      "max_width": null,
      "min_height": null,
      "min_width": null,
      "object_fit": null,
      "object_position": null,
      "order": null,
      "overflow": null,
      "overflow_x": null,
      "overflow_y": null,
      "padding": null,
      "right": null,
      "top": null,
      "visibility": null,
      "width": null
     }
    },
    "9ba8df578a73498ba3d909f82b4ed8d7": {
     "model_module": "@jupyter-widgets/controls",
     "model_module_version": "1.5.0",
     "model_name": "FloatProgressModel",
     "state": {
      "_dom_classes": [],
      "_model_module": "@jupyter-widgets/controls",
      "_model_module_version": "1.5.0",
      "_model_name": "FloatProgressModel",
      "_view_count": null,
      "_view_module": "@jupyter-widgets/controls",
      "_view_module_version": "1.5.0",
      "_view_name": "ProgressView",
      "bar_style": "success",
      "description": "",
      "description_tooltip": null,
      "layout": "IPY_MODEL_67ad0daea70445138fc8a88243252f16",
      "max": 1,
      "min": 0,
      "orientation": "horizontal",
      "style": "IPY_MODEL_efd98330ffb545b0916cf27c15cfd1eb",
      "value": 1
     }
    },
    "ae33810bf6d14cc48131dbc86473646b": {
     "model_module": "@jupyter-widgets/controls",
     "model_module_version": "1.5.0",
     "model_name": "DescriptionStyleModel",
     "state": {
      "_model_module": "@jupyter-widgets/controls",
      "_model_module_version": "1.5.0",
      "_model_name": "DescriptionStyleModel",
      "_view_count": null,
      "_view_module": "@jupyter-widgets/base",
      "_view_module_version": "1.2.0",
      "_view_name": "StyleView",
      "description_width": ""
     }
    },
    "b2cd1fd9fd7f4ffba67c34259b04876a": {
     "model_module": "@jupyter-widgets/controls",
     "model_module_version": "1.5.0",
     "model_name": "DescriptionStyleModel",
     "state": {
      "_model_module": "@jupyter-widgets/controls",
      "_model_module_version": "1.5.0",
      "_model_name": "DescriptionStyleModel",
      "_view_count": null,
      "_view_module": "@jupyter-widgets/base",
      "_view_module_version": "1.2.0",
      "_view_name": "StyleView",
      "description_width": ""
     }
    },
    "b59ac7a0f4a54450aed65b01ba24e665": {
     "model_module": "@jupyter-widgets/controls",
     "model_module_version": "1.5.0",
     "model_name": "HTMLModel",
     "state": {
      "_dom_classes": [],
      "_model_module": "@jupyter-widgets/controls",
      "_model_module_version": "1.5.0",
      "_model_name": "HTMLModel",
      "_view_count": null,
      "_view_module": "@jupyter-widgets/controls",
      "_view_module_version": "1.5.0",
      "_view_name": "HTMLView",
      "description": "",
      "description_tooltip": null,
      "layout": "IPY_MODEL_8694d6b375bb41b1a2fce23a2e2bdb4e",
      "placeholder": "​",
      "style": "IPY_MODEL_ae33810bf6d14cc48131dbc86473646b",
      "value": " 1/1 [00:01&lt;00:00,  1.16s/shard]"
     }
    },
    "c28ab1bddc7d4216a0a85c2eba66cbaf": {
     "model_module": "@jupyter-widgets/base",
     "model_module_version": "1.2.0",
     "model_name": "LayoutModel",
     "state": {
      "_model_module": "@jupyter-widgets/base",
      "_model_module_version": "1.2.0",
      "_model_name": "LayoutModel",
      "_view_count": null,
      "_view_module": "@jupyter-widgets/base",
      "_view_module_version": "1.2.0",
      "_view_name": "LayoutView",
      "align_content": null,
      "align_items": null,
      "align_self": null,
      "border": null,
      "bottom": null,
      "display": null,
      "flex": null,
      "flex_flow": null,
      "grid_area": null,
      "grid_auto_columns": null,
      "grid_auto_flow": null,
      "grid_auto_rows": null,
      "grid_column": null,
      "grid_gap": null,
      "grid_row": null,
      "grid_template_areas": null,
      "grid_template_columns": null,
      "grid_template_rows": null,
      "height": null,
      "justify_content": null,
      "justify_items": null,
      "left": null,
      "margin": null,
      "max_height": null,
      "max_width": null,
      "min_height": null,
      "min_width": null,
      "object_fit": null,
      "object_position": null,
      "order": null,
      "overflow": null,
      "overflow_x": null,
      "overflow_y": null,
      "padding": null,
      "right": null,
      "top": null,
      "visibility": null,
      "width": null
     }
    },
    "c43439e2eb7842a69347ccd6eaad52cc": {
     "model_module": "@jupyter-widgets/base",
     "model_module_version": "1.2.0",
     "model_name": "LayoutModel",
     "state": {
      "_model_module": "@jupyter-widgets/base",
      "_model_module_version": "1.2.0",
      "_model_name": "LayoutModel",
      "_view_count": null,
      "_view_module": "@jupyter-widgets/base",
      "_view_module_version": "1.2.0",
      "_view_name": "LayoutView",
      "align_content": null,
      "align_items": null,
      "align_self": null,
      "border": null,
      "bottom": null,
      "display": null,
      "flex": null,
      "flex_flow": null,
      "grid_area": null,
      "grid_auto_columns": null,
      "grid_auto_flow": null,
      "grid_auto_rows": null,
      "grid_column": null,
      "grid_gap": null,
      "grid_row": null,
      "grid_template_areas": null,
      "grid_template_columns": null,
      "grid_template_rows": null,
      "height": null,
      "justify_content": null,
      "justify_items": null,
      "left": null,
      "margin": null,
      "max_height": null,
      "max_width": null,
      "min_height": null,
      "min_width": null,
      "object_fit": null,
      "object_position": null,
      "order": null,
      "overflow": null,
      "overflow_x": null,
      "overflow_y": null,
      "padding": null,
      "right": null,
      "top": null,
      "visibility": null,
      "width": null
     }
    },
    "cdcf230ab5064f74b31d83c828e676f5": {
     "model_module": "@jupyter-widgets/controls",
     "model_module_version": "1.5.0",
     "model_name": "HBoxModel",
     "state": {
      "_dom_classes": [],
      "_model_module": "@jupyter-widgets/controls",
      "_model_module_version": "1.5.0",
      "_model_name": "HBoxModel",
      "_view_count": null,
      "_view_module": "@jupyter-widgets/controls",
      "_view_module_version": "1.5.0",
      "_view_name": "HBoxView",
      "box_style": "",
      "children": [
       "IPY_MODEL_e06459ac963d457cb24c86cba8c23484",
       "IPY_MODEL_9ba8df578a73498ba3d909f82b4ed8d7",
       "IPY_MODEL_b59ac7a0f4a54450aed65b01ba24e665"
      ],
      "layout": "IPY_MODEL_1ed821c97fd74d5588397ce7bb962700"
     }
    },
    "d926ff42ea644076bfa79b1ab93f6bd9": {
     "model_module": "@jupyter-widgets/base",
     "model_module_version": "1.2.0",
     "model_name": "LayoutModel",
     "state": {
      "_model_module": "@jupyter-widgets/base",
      "_model_module_version": "1.2.0",
      "_model_name": "LayoutModel",
      "_view_count": null,
      "_view_module": "@jupyter-widgets/base",
      "_view_module_version": "1.2.0",
      "_view_name": "LayoutView",
      "align_content": null,
      "align_items": null,
      "align_self": null,
      "border": null,
      "bottom": null,
      "display": null,
      "flex": null,
      "flex_flow": null,
      "grid_area": null,
      "grid_auto_columns": null,
      "grid_auto_flow": null,
      "grid_auto_rows": null,
      "grid_column": null,
      "grid_gap": null,
      "grid_row": null,
      "grid_template_areas": null,
      "grid_template_columns": null,
      "grid_template_rows": null,
      "height": null,
      "justify_content": null,
      "justify_items": null,
      "left": null,
      "margin": null,
      "max_height": null,
      "max_width": null,
      "min_height": null,
      "min_width": null,
      "object_fit": null,
      "object_position": null,
      "order": null,
      "overflow": null,
      "overflow_x": null,
      "overflow_y": null,
      "padding": null,
      "right": null,
      "top": null,
      "visibility": null,
      "width": null
     }
    },
    "da114d7b10da47b19533c91c4f0bed7e": {
     "model_module": "@jupyter-widgets/base",
     "model_module_version": "1.2.0",
     "model_name": "LayoutModel",
     "state": {
      "_model_module": "@jupyter-widgets/base",
      "_model_module_version": "1.2.0",
      "_model_name": "LayoutModel",
      "_view_count": null,
      "_view_module": "@jupyter-widgets/base",
      "_view_module_version": "1.2.0",
      "_view_name": "LayoutView",
      "align_content": null,
      "align_items": null,
      "align_self": null,
      "border": null,
      "bottom": null,
      "display": null,
      "flex": null,
      "flex_flow": null,
      "grid_area": null,
      "grid_auto_columns": null,
      "grid_auto_flow": null,
      "grid_auto_rows": null,
      "grid_column": null,
      "grid_gap": null,
      "grid_row": null,
      "grid_template_areas": null,
      "grid_template_columns": null,
      "grid_template_rows": null,
      "height": null,
      "justify_content": null,
      "justify_items": null,
      "left": null,
      "margin": null,
      "max_height": null,
      "max_width": null,
      "min_height": null,
      "min_width": null,
      "object_fit": null,
      "object_position": null,
      "order": null,
      "overflow": null,
      "overflow_x": null,
      "overflow_y": null,
      "padding": null,
      "right": null,
      "top": null,
      "visibility": null,
      "width": null
     }
    },
    "de82bcfd97b74de3849f46595bd5fdd0": {
     "model_module": "@jupyter-widgets/controls",
     "model_module_version": "1.5.0",
     "model_name": "ProgressStyleModel",
     "state": {
      "_model_module": "@jupyter-widgets/controls",
      "_model_module_version": "1.5.0",
      "_model_name": "ProgressStyleModel",
      "_view_count": null,
      "_view_module": "@jupyter-widgets/base",
      "_view_module_version": "1.2.0",
      "_view_name": "StyleView",
      "bar_color": null,
      "description_width": ""
     }
    },
    "e06459ac963d457cb24c86cba8c23484": {
     "model_module": "@jupyter-widgets/controls",
     "model_module_version": "1.5.0",
     "model_name": "HTMLModel",
     "state": {
      "_dom_classes": [],
      "_model_module": "@jupyter-widgets/controls",
      "_model_module_version": "1.5.0",
      "_model_name": "HTMLModel",
      "_view_count": null,
      "_view_module": "@jupyter-widgets/controls",
      "_view_module_version": "1.5.0",
      "_view_name": "HTMLView",
      "description": "",
      "description_tooltip": null,
      "layout": "IPY_MODEL_d926ff42ea644076bfa79b1ab93f6bd9",
      "placeholder": "​",
      "style": "IPY_MODEL_7ad250f088d0462e8b58a9897a18e83c",
      "value": "100%"
     }
    },
    "e640b6e2d43749a7b371a9331dcdab0f": {
     "model_module": "@jupyter-widgets/base",
     "model_module_version": "1.2.0",
     "model_name": "LayoutModel",
     "state": {
      "_model_module": "@jupyter-widgets/base",
      "_model_module_version": "1.2.0",
      "_model_name": "LayoutModel",
      "_view_count": null,
      "_view_module": "@jupyter-widgets/base",
      "_view_module_version": "1.2.0",
      "_view_name": "LayoutView",
      "align_content": null,
      "align_items": null,
      "align_self": null,
      "border": null,
      "bottom": null,
      "display": null,
      "flex": null,
      "flex_flow": null,
      "grid_area": null,
      "grid_auto_columns": null,
      "grid_auto_flow": null,
      "grid_auto_rows": null,
      "grid_column": null,
      "grid_gap": null,
      "grid_row": null,
      "grid_template_areas": null,
      "grid_template_columns": null,
      "grid_template_rows": null,
      "height": null,
      "justify_content": null,
      "justify_items": null,
      "left": null,
      "margin": null,
      "max_height": null,
      "max_width": null,
      "min_height": null,
      "min_width": null,
      "object_fit": null,
      "object_position": null,
      "order": null,
      "overflow": null,
      "overflow_x": null,
      "overflow_y": null,
      "padding": null,
      "right": null,
      "top": null,
      "visibility": null,
      "width": null
     }
    },
    "efd98330ffb545b0916cf27c15cfd1eb": {
     "model_module": "@jupyter-widgets/controls",
     "model_module_version": "1.5.0",
     "model_name": "ProgressStyleModel",
     "state": {
      "_model_module": "@jupyter-widgets/controls",
      "_model_module_version": "1.5.0",
      "_model_name": "ProgressStyleModel",
      "_view_count": null,
      "_view_module": "@jupyter-widgets/base",
      "_view_module_version": "1.2.0",
      "_view_name": "StyleView",
      "bar_color": null,
      "description_width": ""
     }
    },
    "f2a55fbf67ff4f60a241f071bc4b2708": {
     "model_module": "@jupyter-widgets/controls",
     "model_module_version": "1.5.0",
     "model_name": "HTMLModel",
     "state": {
      "_dom_classes": [],
      "_model_module": "@jupyter-widgets/controls",
      "_model_module_version": "1.5.0",
      "_model_name": "HTMLModel",
      "_view_count": null,
      "_view_module": "@jupyter-widgets/controls",
      "_view_module_version": "1.5.0",
      "_view_name": "HTMLView",
      "description": "",
      "description_tooltip": null,
      "layout": "IPY_MODEL_c43439e2eb7842a69347ccd6eaad52cc",
      "placeholder": "​",
      "style": "IPY_MODEL_63b91333418944988febceedf502d1fa",
      "value": "100%"
     }
    }
   }
  }
 },
 "nbformat": 4,
 "nbformat_minor": 1
}
